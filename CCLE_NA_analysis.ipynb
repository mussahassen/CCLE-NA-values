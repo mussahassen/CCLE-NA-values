{
 "cells": [
  {
   "cell_type": "code",
   "execution_count": 2,
   "id": "e86c8765",
   "metadata": {},
   "outputs": [
    {
     "name": "stdout",
     "output_type": "stream",
     "text": [
      "Hello World!\n"
     ]
    }
   ],
   "source": [
    "# packages\n",
    "\n",
    "import pandas as pd\n",
    "import numpy as np\n",
    "\n",
    "print(\"Hello World!\")\n"
   ]
  },
  {
   "cell_type": "code",
   "execution_count": 4,
   "id": "dd51d25e",
   "metadata": {},
   "outputs": [
    {
     "name": "stderr",
     "output_type": "stream",
     "text": [
      "/var/folders/v4/ll98xkld14g9tg5r1jjcr5j80000gn/T/ipykernel_27295/2619918724.py:13: DtypeWarning: Columns (22,50,56,57,58,59,61) have mixed types. Specify dtype option on import or set low_memory=False.\n",
      "  Mutations_data = pd.read_csv(\"OmicsSomaticMutations (1).csv\")\n"
     ]
    }
   ],
   "source": [
    "# uploading data\n",
    "\n",
    "Model_data = pd.read_csv(\"Model.csv\")\n",
    "\n",
    "# ModelCondition_data = pd.read_csv(\"ModelCondition.csv\")  # abundance of null values. 5+ columns of 100% missingness\n",
    "\n",
    "CRISPR_data =  pd.read_csv(\"CRISPRGeneEffect (2).csv\")\n",
    "\n",
    "CopyNumber_data = pd.read_csv(\"OmicsCNGene.csv\")\n",
    "\n",
    "Expression_data = pd.read_csv(\"OmicsExpressionProteinCodingGenesTPMLogp1.csv\")\n",
    "\n",
    "Mutations_data = pd.read_csv(\"OmicsSomaticMutations (1).csv\")\n"
   ]
  },
  {
   "cell_type": "markdown",
   "id": "d160ba7e",
   "metadata": {},
   "source": [
    "df.shape() \\\n",
    "df.head()\n",
    "\n",
    "\n",
    "df.isnull().sum() \\\n",
    "    returns the amount of nulls per column. \\\n",
    "        set axis=1 for rows instead of columns \\\n",
    "        add .sum() at end to get total # of NAs \n",
    "   \n",
    "df.fillna() \\\n",
    "    fill with input value or \n",
    "    \n",
    "    method 'bfill', 'ffill' or  \n",
    "    \n",
    "    df['columnName'].mean() or min()\n",
    "    \n",
    "df.dropna() \n",
    "\n",
    "df.replace(*to_replace* = original, *value* = new value) \n",
    "    \n",
    "df['column'].interpolate(*method* = 'linear')\n",
    "    \n"
   ]
  },
  {
   "cell_type": "code",
   "execution_count": 5,
   "id": "f5647c1e",
   "metadata": {},
   "outputs": [],
   "source": [
    "# indexing by ModelID\n",
    "\n",
    "CRISPR_data = CRISPR_data.rename(columns = {'Unnamed: 0': 'ModelID'}) \n",
    "CopyNumber_data = CopyNumber_data.rename(columns = {'Unnamed: 0': 'ModelID'}) \n",
    "Expression_data = Expression_data.rename(columns = {'Unnamed: 0': 'ModelID'}) \n",
    "Mutations_data = Mutations_data.rename(columns = {'Unnamed: 0': 'ModelID'}) "
   ]
  },
  {
   "cell_type": "code",
   "execution_count": 1,
   "id": "3dc44ada",
   "metadata": {},
   "outputs": [
    {
     "ename": "NameError",
     "evalue": "name 'pd' is not defined",
     "output_type": "error",
     "traceback": [
      "\u001b[0;31m---------------------------------------------------------------------------\u001b[0m",
      "\u001b[0;31mNameError\u001b[0m                                 Traceback (most recent call last)",
      "Cell \u001b[0;32mIn[1], line 3\u001b[0m\n\u001b[1;32m      1\u001b[0m \u001b[38;5;66;03m# combining data tables\u001b[39;00m\n\u001b[0;32m----> 3\u001b[0m merged_data \u001b[38;5;241m=\u001b[39m pd\u001b[38;5;241m.\u001b[39mmerge(Model_data,CRISPR_data, how\u001b[38;5;241m=\u001b[39m\u001b[38;5;124m'\u001b[39m\u001b[38;5;124mouter\u001b[39m\u001b[38;5;124m'\u001b[39m, on\u001b[38;5;241m=\u001b[39m\u001b[38;5;124m'\u001b[39m\u001b[38;5;124mModelID\u001b[39m\u001b[38;5;124m'\u001b[39m)\n\u001b[1;32m      4\u001b[0m merged_data \u001b[38;5;241m=\u001b[39m pd\u001b[38;5;241m.\u001b[39mmerge(merged_data, CopyNumber_data, how\u001b[38;5;241m=\u001b[39m\u001b[38;5;124m'\u001b[39m\u001b[38;5;124mouter\u001b[39m\u001b[38;5;124m'\u001b[39m, on\u001b[38;5;241m=\u001b[39m\u001b[38;5;124m'\u001b[39m\u001b[38;5;124mModelID\u001b[39m\u001b[38;5;124m'\u001b[39m)\n\u001b[1;32m      5\u001b[0m merged_data \u001b[38;5;241m=\u001b[39m pd\u001b[38;5;241m.\u001b[39mmerge(merged_data, Expression_data, how\u001b[38;5;241m=\u001b[39m\u001b[38;5;124m'\u001b[39m\u001b[38;5;124mouter\u001b[39m\u001b[38;5;124m'\u001b[39m, on\u001b[38;5;241m=\u001b[39m\u001b[38;5;124m'\u001b[39m\u001b[38;5;124mModelID\u001b[39m\u001b[38;5;124m'\u001b[39m)\n",
      "\u001b[0;31mNameError\u001b[0m: name 'pd' is not defined"
     ]
    }
   ],
   "source": [
    "# combining data tables\n",
    "\n",
    "merged_data = pd.merge(Model_data,CRISPR_data, how='outer', on='ModelID')\n",
    "merged_data = pd.merge(merged_data, CopyNumber_data, how='outer', on='ModelID')\n",
    "merged_data = pd.merge(merged_data, Expression_data, how='outer', on='ModelID')\n",
    "merged_data = pd.merge(merged_data, Mutations_data, how='outer', on='ModelID')\n",
    "\n",
    "\n",
    "# remove duplicates\n",
    "merged_data = merged_data.drop_duplicates(subset = ['ModelID'])\n",
    "\n",
    "merged_data = merged_data.fillna(np.nan)\n",
    "\n",
    "\n",
    "merged_data"
   ]
  },
  {
   "cell_type": "code",
   "execution_count": null,
   "id": "1f75bf90",
   "metadata": {},
   "outputs": [],
   "source": [
    "# removing columns with too many null values\n",
    "\n",
    "for column in merged_data.columns:\n",
    "    if merged_data[column].isna().sum() > 2000:\n",
    "        merged_data = merged_data.drop(column, axis=1)\n",
    "\n",
    "merged_data"
   ]
  },
  {
   "cell_type": "code",
   "execution_count": null,
   "id": "5304493a",
   "metadata": {},
   "outputs": [],
   "source": [
    "# visualizations\n",
    "\n",
    "import seaborn as sns\n",
    "import matplotlib.pyplot as plt\n",
    "\n",
    "plt.figure(figsize=(12, 8))\n",
    "sns.heatmap(merged_data.isnull(), cbar=False, cmap='viridis', xticklabels=False, yticklabels=False)\n",
    "plt.title('Heatmap of Missing Values (Subset of Columns)')\n",
    "plt.show()"
   ]
  },
  {
   "cell_type": "code",
   "execution_count": null,
   "id": "4c410bb9",
   "metadata": {},
   "outputs": [],
   "source": []
  },
  {
   "cell_type": "code",
   "execution_count": null,
   "id": "8f8f79e8",
   "metadata": {},
   "outputs": [],
   "source": [
    "# Use KNN method (n=7) for Numeric columns\n",
    "# Use simple or regression methods for Categorical columns\n",
    "\n",
    "import scklearn.impute\n",
    "from scklearn.impute import KNNImputer"
   ]
  },
  {
   "cell_type": "code",
   "execution_count": null,
   "id": "b2e48bad",
   "metadata": {},
   "outputs": [],
   "source": []
  }
 ],
 "metadata": {
  "kernelspec": {
   "display_name": "Python 3 (ipykernel)",
   "language": "python",
   "name": "python3"
  },
  "language_info": {
   "codemirror_mode": {
    "name": "ipython",
    "version": 3
   },
   "file_extension": ".py",
   "mimetype": "text/x-python",
   "name": "python",
   "nbconvert_exporter": "python",
   "pygments_lexer": "ipython3",
   "version": "3.11.5"
  }
 },
 "nbformat": 4,
 "nbformat_minor": 5
}
